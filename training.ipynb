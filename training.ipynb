{
 "cells": [
  {
   "cell_type": "markdown",
   "metadata": {},
   "source": [
    "## Pix2Pix - Change Detection\n",
    "\n",
    "Reprodução do modelo de GAN (Generative Adversarial Netowork) conhecido como Pix2Pix para aplicação na tarefa de detecção de mudanças em imagens (*change detection*). A implementação foi baseada no artigo [CHANGE DETECTION IN REMOTE SENSING IMAGES USING\n",
    "CONDITIONAL ADVERSARIAL NETWORKS](https://www.int-arch-photogramm-remote-sens-spatial-inf-sci.net/XLII-2/565/2018/isprs-archives-XLII-2-565-2018.pdf) e aplica detecção de mudança em imagens de satélites\n",
    "### Importando bibliotecas e o modelo\n",
    "Os blocos abaixo temos todas as bibliotecas utilizadas e o modelo importado do arquivo E_Net.py, tome o cuidade para estar na mesma pasta desse arquivo notebook"
   ]
  },
  {
   "cell_type": "code",
   "execution_count": 1,
   "metadata": {},
   "outputs": [],
   "source": [
    "#Importando módulos necessários\n",
    "import torch\n",
    "import torch.nn as nn\n",
    "import torchvision\n",
    "from torchvision import transforms\n",
    "from torchvision import models\n",
    "from torchsummary import summary\n",
    "import numpy as np\n",
    "from matplotlib import pyplot as plt\n",
    "from torch.utils.tensorboard import SummaryWriter\n",
    "from datetime import date"
   ]
  },
  {
   "cell_type": "code",
   "execution_count": 2,
   "metadata": {},
   "outputs": [],
   "source": [
    "#Importando implementação da arquitetura da rede Pix2Pix\n",
    "import Pix2Pix_Model as model"
   ]
  },
  {
   "cell_type": "markdown",
   "metadata": {},
   "source": [
    "## Sumário do modelo\n",
    "\n",
    "Nos blocos abaixo temos os códigos necessário para printar o sumário do modelo, podendo visualizar as camadas e informações como a quantidade de parâmetros. Como ele ocupa a gpu, tome cuidade em executar tais blocos, procure utilizá-los somente para testes"
   ]
  },
  {
   "cell_type": "code",
   "execution_count": 19,
   "metadata": {},
   "outputs": [],
   "source": [
    "#Função utilizada para printar sumário do modelo do Discriminador\n",
    "def print_discriminator_model():\n",
    "    print(\"PatchGan model: \\n\\n\")\n",
    "    #Usamos 7 canais de cores como entrada\n",
    "    Discriminator = model.PatchGAN_Discriminator(7)\n",
    "    Discriminator.apply(model._initialize_weights)\n",
    "    Discriminator.cuda()\n",
    "    summary(Discriminator, (7, 256, 256))"
   ]
  },
  {
   "cell_type": "code",
   "execution_count": 4,
   "metadata": {},
   "outputs": [
    {
     "name": "stdout",
     "output_type": "stream",
     "text": [
      "PatchGan model: \n",
      "\n",
      "\n",
      "----------------------------------------------------------------\n",
      "        Layer (type)               Output Shape         Param #\n",
      "================================================================\n",
      "            Conv2d-1         [-1, 64, 128, 128]           7,232\n",
      "         LeakyReLU-2         [-1, 64, 128, 128]               0\n",
      "            Conv2d-3          [-1, 128, 64, 64]         131,072\n",
      "       BatchNorm2d-4          [-1, 128, 64, 64]             256\n",
      "         LeakyReLU-5          [-1, 128, 64, 64]               0\n",
      "            Conv2d-6          [-1, 256, 32, 32]         524,288\n",
      "       BatchNorm2d-7          [-1, 256, 32, 32]             512\n",
      "         LeakyReLU-8          [-1, 256, 32, 32]               0\n",
      "            Conv2d-9          [-1, 512, 16, 16]       2,097,152\n",
      "      BatchNorm2d-10          [-1, 512, 16, 16]           1,024\n",
      "        LeakyReLU-11          [-1, 512, 16, 16]               0\n",
      "           Conv2d-12          [-1, 512, 15, 15]       4,194,304\n",
      "      BatchNorm2d-13          [-1, 512, 15, 15]           1,024\n",
      "        LeakyReLU-14          [-1, 512, 15, 15]               0\n",
      "           Conv2d-15            [-1, 1, 14, 14]           8,192\n",
      "          Sigmoid-16            [-1, 1, 14, 14]               0\n",
      "================================================================\n",
      "Total params: 6,965,056\n",
      "Trainable params: 6,965,056\n",
      "Non-trainable params: 0\n",
      "----------------------------------------------------------------\n",
      "Input size (MB): 1.75\n",
      "Forward/backward pass size (MB): 39.64\n",
      "Params size (MB): 26.57\n",
      "Estimated Total Size (MB): 67.96\n",
      "----------------------------------------------------------------\n"
     ]
    }
   ],
   "source": [
    "print_discriminator_model()"
   ]
  },
  {
   "cell_type": "code",
   "execution_count": 11,
   "metadata": {},
   "outputs": [],
   "source": [
    "#Função utilizada para printar sumário do modelo do Gerador\n",
    "def print_generator_model():\n",
    "    print(\"UNet model: \\n\\n\")\n",
    "    #Usamos 3 canais de cores como entrada\n",
    "    Generator = model.UnetGenerator(3)\n",
    "    Generator.apply(model._initialize_weights)\n",
    "    Generator.cuda()\n",
    "    summary(Generator, (3, 256, 256))"
   ]
  },
  {
   "cell_type": "code",
   "execution_count": 12,
   "metadata": {},
   "outputs": [
    {
     "name": "stdout",
     "output_type": "stream",
     "text": [
      "UNet model: \n",
      "\n",
      "\n",
      "----------------------------------------------------------------\n",
      "        Layer (type)               Output Shape         Param #\n",
      "================================================================\n",
      "            Conv2d-1         [-1, 64, 128, 128]           3,136\n",
      "         LeakyReLU-2         [-1, 64, 128, 128]               0\n",
      "            Conv2d-3          [-1, 128, 64, 64]         131,072\n",
      "       BatchNorm2d-4          [-1, 128, 64, 64]             256\n",
      "         LeakyReLU-5          [-1, 128, 64, 64]               0\n",
      "            Conv2d-6          [-1, 256, 32, 32]         524,288\n",
      "       BatchNorm2d-7          [-1, 256, 32, 32]             512\n",
      "         LeakyReLU-8          [-1, 256, 32, 32]               0\n",
      "            Conv2d-9          [-1, 512, 16, 16]       2,097,152\n",
      "      BatchNorm2d-10          [-1, 512, 16, 16]           1,024\n",
      "        LeakyReLU-11          [-1, 512, 16, 16]               0\n",
      "           Conv2d-12            [-1, 512, 8, 8]       4,194,304\n",
      "      BatchNorm2d-13            [-1, 512, 8, 8]           1,024\n",
      "        LeakyReLU-14            [-1, 512, 8, 8]               0\n",
      "           Conv2d-15            [-1, 512, 4, 4]       4,194,304\n",
      "      BatchNorm2d-16            [-1, 512, 4, 4]           1,024\n",
      "        LeakyReLU-17            [-1, 512, 4, 4]               0\n",
      "           Conv2d-18            [-1, 512, 2, 2]       4,194,304\n",
      "      BatchNorm2d-19            [-1, 512, 2, 2]           1,024\n",
      "        LeakyReLU-20            [-1, 512, 2, 2]               0\n",
      "           Conv2d-21            [-1, 512, 1, 1]       4,194,816\n",
      "             ReLU-22            [-1, 512, 1, 1]               0\n",
      "  ConvTranspose2d-23            [-1, 512, 2, 2]       4,194,304\n",
      "      BatchNorm2d-24            [-1, 512, 2, 2]           1,024\n",
      "          Dropout-25            [-1, 512, 2, 2]               0\n",
      "             ReLU-26           [-1, 1024, 2, 2]               0\n",
      "  ConvTranspose2d-27            [-1, 512, 4, 4]       8,388,608\n",
      "      BatchNorm2d-28            [-1, 512, 4, 4]           1,024\n",
      "          Dropout-29            [-1, 512, 4, 4]               0\n",
      "             ReLU-30           [-1, 1024, 4, 4]               0\n",
      "  ConvTranspose2d-31            [-1, 512, 8, 8]       8,388,608\n",
      "      BatchNorm2d-32            [-1, 512, 8, 8]           1,024\n",
      "          Dropout-33            [-1, 512, 8, 8]               0\n",
      "             ReLU-34           [-1, 1024, 8, 8]               0\n",
      "  ConvTranspose2d-35          [-1, 512, 16, 16]       8,388,608\n",
      "      BatchNorm2d-36          [-1, 512, 16, 16]           1,024\n",
      "             ReLU-37         [-1, 1024, 16, 16]               0\n",
      "  ConvTranspose2d-38          [-1, 256, 32, 32]       4,194,304\n",
      "      BatchNorm2d-39          [-1, 256, 32, 32]             512\n",
      "             ReLU-40          [-1, 512, 32, 32]               0\n",
      "  ConvTranspose2d-41          [-1, 128, 64, 64]       1,048,576\n",
      "      BatchNorm2d-42          [-1, 128, 64, 64]             256\n",
      "             ReLU-43          [-1, 256, 64, 64]               0\n",
      "  ConvTranspose2d-44         [-1, 64, 128, 128]         262,144\n",
      "      BatchNorm2d-45         [-1, 64, 128, 128]             128\n",
      "  ConvTranspose2d-46          [-1, 1, 256, 256]           1,025\n",
      "             Tanh-47          [-1, 1, 256, 256]               0\n",
      "================================================================\n",
      "Total params: 54,409,409\n",
      "Trainable params: 54,409,409\n",
      "Non-trainable params: 0\n",
      "----------------------------------------------------------------\n",
      "Input size (MB): 0.75\n",
      "Forward/backward pass size (MB): 84.63\n",
      "Params size (MB): 207.56\n",
      "Estimated Total Size (MB): 292.94\n",
      "----------------------------------------------------------------\n"
     ]
    }
   ],
   "source": [
    "print_generator_model()"
   ]
  },
  {
   "cell_type": "markdown",
   "metadata": {},
   "source": [
    "## Setando Device e Inicializando Modelos"
   ]
  },
  {
   "cell_type": "code",
   "execution_count": 4,
   "metadata": {},
   "outputs": [
    {
     "name": "stdout",
     "output_type": "stream",
     "text": [
      "cuda\n",
      "GeForce GTX 1050\n"
     ]
    }
   ],
   "source": [
    "#definindo device de acordo com a disponibilidade\n",
    "device = torch.device('cuda') if torch.cuda.is_available() else torch.device('cpu')\n",
    "print(device)\n",
    "print(torch.cuda.get_device_name(device))"
   ]
  },
  {
   "cell_type": "code",
   "execution_count": 5,
   "metadata": {},
   "outputs": [
    {
     "name": "stdout",
     "output_type": "stream",
     "text": [
      "Modelos Inicializados\n"
     ]
    }
   ],
   "source": [
    "#initialize D, G\n",
    "D = model.PatchGAN_Discriminator(7).to(device)\n",
    "D.apply(model._initialize_weights)\n",
    "\n",
    "G = model.UnetGenerator(6).to(device)\n",
    "G.apply(model._initialize_weights)\n",
    "\n",
    "print('Modelos Inicializados')"
   ]
  },
  {
   "cell_type": "markdown",
   "metadata": {},
   "source": [
    "## Leitura dataset - Experimento 1\n",
    "O primeiro experimento consiste na datecção de mudança em imagens de figuras geométricas simples"
   ]
  },
  {
   "cell_type": "code",
   "execution_count": 8,
   "metadata": {},
   "outputs": [],
   "source": [
    "batch_size = 8\n",
    "\n",
    "dataloader_A = model.load_dataset(batch_size,'ChangeDetectionDataset/Model/without_shift/train/A/',False)\n",
    "\n",
    "dataloader_B = model.load_dataset(batch_size,'ChangeDetectionDataset/Model/without_shift/train/B/',False)\n",
    "\n",
    "dataloader_OUT = model.load_dataset(batch_size,'ChangeDetectionDataset/Model/without_shift/train/OUT/',True)"
   ]
  },
  {
   "cell_type": "markdown",
   "metadata": {},
   "source": [
    "### Testes Dataset"
   ]
  },
  {
   "cell_type": "code",
   "execution_count": 6,
   "metadata": {},
   "outputs": [],
   "source": [
    "#Criando iteradores para o dataset\n",
    "iterA = iter(dataloader_A)\n",
    "iterB = iter(dataloader_B)\n",
    "iterOUT= iter(dataloader_OUT)"
   ]
  },
  {
   "cell_type": "code",
   "execution_count": 7,
   "metadata": {},
   "outputs": [
    {
     "name": "stdout",
     "output_type": "stream",
     "text": [
      "<class 'torch.Tensor'>\n",
      "torch.Size([8, 3, 256, 256])\n",
      "torch.Size([8, 1, 256, 256])\n",
      "tensor([0, 0, 0, 0, 0, 0, 0, 0])\n"
     ]
    }
   ],
   "source": [
    "'''Método next retorna array de imagens de acordo com o batch\n",
    "(caso batch = 1 retorna array contendo somente uma imagem)\n",
    "e a numeração da iteração atual'''\n",
    "img_A, i_A = iterA.next()\n",
    "img_B, i_B = iterB.next()\n",
    "img_OUT, i_OUT = iterOUT.next()\n",
    "\n",
    "print(type(img_A))\n",
    "print(img_A.shape)\n",
    "print(img_OUT.shape)\n",
    "print(i_A)"
   ]
  },
  {
   "cell_type": "code",
   "execution_count": 8,
   "metadata": {},
   "outputs": [
    {
     "name": "stdout",
     "output_type": "stream",
     "text": [
      "A image:  torch.Size([3, 256, 256])\n",
      "B image:  torch.Size([3, 256, 256])\n",
      "OUT image:  torch.Size([256, 256])\n",
      "torch.Size([256, 256, 3])\n"
     ]
    },
    {
     "data": {
      "text/plain": [
       "Text(0.5, 1.0, 'Ground truth')"
      ]
     },
     "execution_count": 8,
     "metadata": {},
     "output_type": "execute_result"
    },
    {
     "data": {
      "image/png": "[encoded data removed]",
      "text/plain": [
       "<Figure size 720x1080 with 3 Axes>"
      ]
     },
     "metadata": {
      "needs_background": "light"
     },
     "output_type": "display_data"
    }
   ],
   "source": [
    "#Pegando imagem inicial da array de imagens como exemplo\n",
    "single_img_A = img_A[0]\n",
    "print(\"A image: \",single_img_A.shape)\n",
    "single_img_B = img_B[0]\n",
    "print(\"B image: \",single_img_B.shape)\n",
    "#para plotar grayscale preciso somente de duas dimensões\n",
    "single_img_OUT = img_OUT[0][0] \n",
    "print(\"OUT image: \", single_img_OUT.shape)\n",
    "#Invertendo ordem das dimensões para consguir plotar no matplot\n",
    "single_img_A = single_img_A.permute(1,2,0)\n",
    "single_img_B = single_img_B.permute(1,2,0)\n",
    "single_img_OUT = single_img_OUT.permute(0,1)\n",
    "print(single_img_A.shape)\n",
    "\n",
    "f, (ax0, ax1, ax2) = plt.subplots(1, 3, figsize=(10,15))\n",
    "\n",
    "ax0.imshow(single_img_A)\n",
    "ax0.set_title('A', fontsize=10)\n",
    "\n",
    "ax1.imshow(single_img_B)\n",
    "ax1.set_title('B', fontsize=10)\n",
    "\n",
    "ax2.imshow(single_img_OUT, cmap='gray')\n",
    "ax2.set_title('Ground truth', fontsize=10)"
   ]
  },
  {
   "cell_type": "markdown",
   "metadata": {},
   "source": [
    "## Parâmetros do Modelo"
   ]
  },
  {
   "cell_type": "code",
   "execution_count": 9,
   "metadata": {},
   "outputs": [],
   "source": [
    "#optimizers\n",
    "optimizerD = torch.optim.Adam(D.parameters(), lr=0.002, betas=(0.5,0.999))\n",
    "optimizerG = torch.optim.Adam(G.parameters(), lr=0.002, betas=(0.5,0.999))\n",
    "\n",
    "#Loss Functions\n",
    "criterionD = nn.BCELoss()\n",
    "criterionG = nn.L1Loss()"
   ]
  },
  {
   "cell_type": "code",
   "execution_count": 10,
   "metadata": {},
   "outputs": [],
   "source": [
    "# generate real matrix class labels (1)\n",
    "lab_real = torch.ones(batch_size, 14, 14, device=device)\n",
    "# generate fake matrix class labels (0)\n",
    "lab_fake = torch.zeros(batch_size, 14, 14, device=device)"
   ]
  },
  {
   "cell_type": "markdown",
   "metadata": {},
   "source": [
    "## Parâmetros de Log e Checkpoints"
   ]
  },
  {
   "cell_type": "code",
   "execution_count": 11,
   "metadata": {},
   "outputs": [
    {
     "name": "stdout",
     "output_type": "stream",
     "text": [
      "checkpoints_model/checkpoint_8000_L2_5.tar.tar\n"
     ]
    }
   ],
   "source": [
    "#Where save checkpoints' model\n",
    "name_checkpoint = \"model_withoutshift_original\" + \"2021-10-21\"\n",
    "#str(date.today())\n",
    "\n",
    "path_model_checkpoints = 'checkpoints_model/' + name_checkpoint + '.tar'\n",
    "\n",
    "print(path_model_checkpoints)\n",
    "\n",
    "#set up tensorboard - runs folder\n",
    "writerA = SummaryWriter('logs/'+ name_checkpoint + '_A_lrDG ')\n",
    "writerB = SummaryWriter('logs/'+ name_checkpoint + '_B_lrDG ')\n",
    "writerC = SummaryWriter('logs/'+ name_checkpoint + '_C_lrDG ')"
   ]
  },
  {
   "cell_type": "markdown",
   "metadata": {},
   "source": [
    "## Parâmetros do treinamento"
   ]
  },
  {
   "cell_type": "code",
   "execution_count": 14,
   "metadata": {},
   "outputs": [
    {
     "name": "stdout",
     "output_type": "stream",
     "text": [
      "1000\n"
     ]
    }
   ],
   "source": [
    "#Number of images from dataset that will use to train\n",
    "num_data = len(dataloader_A)\n",
    "print(num_data)\n",
    "#Each number will print itens\n",
    "batch_print = 200\n",
    "\n",
    "num_epoch = 200\n",
    "epoch_ini = 0"
   ]
  },
  {
   "cell_type": "markdown",
   "metadata": {},
   "source": [
    "### Carregamento de Modelos"
   ]
  },
  {
   "cell_type": "code",
   "execution_count": 15,
   "metadata": {},
   "outputs": [
    {
     "name": "stdout",
     "output_type": "stream",
     "text": [
      "\n",
      "Carregando checkpoint de checkpoints_model/checkpoint_8000_L2_5.tar\n",
      "\n",
      "Carregado: 'checkpoints_model/checkpoint_8000_L2_5.tar' \n",
      " Epoch: 174 \n",
      " LossG: 14.985588073730469 \n",
      " LossD: 0.0017373173031955957\n"
     ]
    }
   ],
   "source": [
    "path_checkpoint_load = 'checkpoints_model/checkpoint_8000_L2_5.tar'\n",
    "\n",
    "import os\n",
    "#Checando se o arquivo existe\n",
    "if os.path.isfile(path_checkpoint_load):\n",
    "    print(\"\\nCarregando checkpoint de \" + path_checkpoint_load)\n",
    "    #Carregando informações salvas do modelo\n",
    "    checkpoint = torch.load(path_checkpoint_load)\n",
    "    epoch_ini = checkpoint['epoch']\n",
    "    \n",
    "    G.load_state_dict(checkpoint['Generator_state_dict'])\n",
    "    optimizerG.load_state_dict(checkpoint['optimizerG_state_dict'])\n",
    "    lossG = checkpoint['loss_G']\n",
    "\n",
    "    D.load_state_dict(checkpoint['Discriminator_state_dict'])\n",
    "    optimizerD.load_state_dict(checkpoint['optimizerD_state_dict'])\n",
    "    lossD = checkpoint['loss_D']\n",
    "    \n",
    "    print(\"\\nCarregado: '{}' \\n Epoch: {} \\n LossG: {} \\n LossD: {}\".format(path_checkpoint_load, epoch_ini, lossG, lossD))\n",
    "    \n",
    "else:\n",
    "    print(\"Arquivo não encontrado !\")\n"
   ]
  },
  {
   "cell_type": "markdown",
   "metadata": {},
   "source": [
    "## Configurando visualização dos dados\n",
    "Configurando o framework tensorboard para que seja possível visualizar dados como o progresso da perda, as imagens sendo geradas e etc."
   ]
  },
  {
   "cell_type": "code",
   "execution_count": 3,
   "metadata": {},
   "outputs": [],
   "source": [
    "#Criando configurações do tensorboard para visualização dos dados\n",
    "writer_Tensorboard = SummaryWriter('logs')"
   ]
  },
  {
   "cell_type": "code",
   "execution_count": 4,
   "metadata": {},
   "outputs": [
    {
     "data": {
      "text/html": [
       "\n",
       "      <iframe id=\"tensorboard-frame-46dc7544e9574d02\" width=\"100%\" height=\"800\" frameborder=\"0\">\n",
       "      </iframe>\n",
       "      <script>\n",
       "        (function() {\n",
       "          const frame = document.getElementById(\"tensorboard-frame-46dc7544e9574d02\");\n",
       "          const url = new URL(\"/\", window.location);\n",
       "          url.port = 6006;\n",
       "          frame.src = url;\n",
       "        })();\n",
       "      </script>\n",
       "  "
      ],
      "text/plain": [
       "<IPython.core.display.HTML object>"
      ]
     },
     "metadata": {},
     "output_type": "display_data"
    }
   ],
   "source": [
    "logs_base_dir = 'logs'\n",
    "%load_ext tensorboard\n",
    "%tensorboard --logdir {logs_base_dir}"
   ]
  },
  {
   "cell_type": "markdown",
   "metadata": {},
   "source": [
    "## Algoritmo de Treino"
   ]
  },
  {
   "cell_type": "code",
   "execution_count": 27,
   "metadata": {},
   "outputs": [
    {
     "name": "stdout",
     "output_type": "stream",
     "text": [
      "Train Epoch: 81 [200/1000 (20%)]   D_Loss: 0.000047  G_Loss: 21.595993\n",
      "Train Epoch: 81 [400/1000 (40%)]   D_Loss: 0.000045  G_Loss: 24.248718\n",
      "Train Epoch: 81 [600/1000 (60%)]   D_Loss: 0.000002  G_Loss: 37.856125\n",
      "Train Epoch: 81 [800/1000 (80%)]   D_Loss: 0.000004  G_Loss: 22.683140\n",
      "Train Epoch: 81 [1000/1000 (100%)]   D_Loss: 0.000055  G_Loss: 23.322456\n",
      "Train Epoch: 82 [200/1000 (20%)]   D_Loss: 0.526619  G_Loss: 19.880821\n",
      "Train Epoch: 82 [400/1000 (40%)]   D_Loss: 0.006710  G_Loss: 21.424517\n",
      "Train Epoch: 82 [600/1000 (60%)]   D_Loss: 0.000070  G_Loss: 31.420662\n",
      "Train Epoch: 82 [800/1000 (80%)]   D_Loss: 0.000177  G_Loss: 23.210119\n",
      "Train Epoch: 82 [1000/1000 (100%)]   D_Loss: 0.000099  G_Loss: 24.636063\n",
      "Train Epoch: 83 [200/1000 (20%)]   D_Loss: 0.000015  G_Loss: 22.394764\n",
      "Train Epoch: 83 [400/1000 (40%)]   D_Loss: 0.000040  G_Loss: 23.848022\n",
      "Train Epoch: 83 [600/1000 (60%)]   D_Loss: 0.000030  G_Loss: 22.535358\n",
      "Train Epoch: 83 [800/1000 (80%)]   D_Loss: 0.000005  G_Loss: 19.088560\n",
      "Train Epoch: 83 [1000/1000 (100%)]   D_Loss: 0.000150  G_Loss: 22.533817\n",
      "Train Epoch: 84 [200/1000 (20%)]   D_Loss: 0.000012  G_Loss: 22.867641\n",
      "Train Epoch: 84 [400/1000 (40%)]   D_Loss: 0.000026  G_Loss: 27.064182\n",
      "Train Epoch: 84 [600/1000 (60%)]   D_Loss: 0.000002  G_Loss: 28.014088\n",
      "Train Epoch: 84 [800/1000 (80%)]   D_Loss: 0.000005  G_Loss: 20.283237\n",
      "Train Epoch: 84 [1000/1000 (100%)]   D_Loss: 0.000019  G_Loss: 24.160210\n",
      "Train Epoch: 85 [200/1000 (20%)]   D_Loss: 0.000010  G_Loss: 22.547955\n",
      "Train Epoch: 85 [400/1000 (40%)]   D_Loss: 0.000057  G_Loss: 25.996990\n",
      "Train Epoch: 85 [600/1000 (60%)]   D_Loss: 0.000031  G_Loss: 23.313208\n",
      "Train Epoch: 85 [800/1000 (80%)]   D_Loss: 0.000016  G_Loss: 20.463818\n",
      "Train Epoch: 85 [1000/1000 (100%)]   D_Loss: 0.000013  G_Loss: 24.243662\n",
      "Train Epoch: 86 [200/1000 (20%)]   D_Loss: 0.000013  G_Loss: 21.512497\n",
      "Train Epoch: 86 [400/1000 (40%)]   D_Loss: 0.000014  G_Loss: 25.081249\n",
      "Train Epoch: 86 [600/1000 (60%)]   D_Loss: 0.000021  G_Loss: 24.086748\n",
      "Train Epoch: 86 [800/1000 (80%)]   D_Loss: 0.000019  G_Loss: 22.842764\n",
      "Train Epoch: 86 [1000/1000 (100%)]   D_Loss: 0.000864  G_Loss: 22.717333\n",
      "Train Epoch: 87 [200/1000 (20%)]   D_Loss: 0.000078  G_Loss: 25.208275\n",
      "Train Epoch: 87 [400/1000 (40%)]   D_Loss: 0.001885  G_Loss: 22.114983\n",
      "Train Epoch: 87 [600/1000 (60%)]   D_Loss: 0.000063  G_Loss: 24.636356\n",
      "Train Epoch: 87 [800/1000 (80%)]   D_Loss: 0.000022  G_Loss: 20.938641\n",
      "Train Epoch: 87 [1000/1000 (100%)]   D_Loss: 0.000076  G_Loss: 23.799759\n",
      "Train Epoch: 88 [200/1000 (20%)]   D_Loss: 0.000028  G_Loss: 21.240654\n",
      "Train Epoch: 88 [400/1000 (40%)]   D_Loss: 0.000014  G_Loss: 24.829098\n",
      "Train Epoch: 88 [600/1000 (60%)]   D_Loss: 0.000017  G_Loss: 25.449615\n",
      "Train Epoch: 88 [800/1000 (80%)]   D_Loss: 0.000021  G_Loss: 19.745951\n",
      "Train Epoch: 88 [1000/1000 (100%)]   D_Loss: 0.000132  G_Loss: 22.031776\n",
      "Train Epoch: 89 [200/1000 (20%)]   D_Loss: 0.000363  G_Loss: 17.490858\n",
      "Train Epoch: 89 [400/1000 (40%)]   D_Loss: 0.000458  G_Loss: 20.863039\n",
      "Train Epoch: 89 [600/1000 (60%)]   D_Loss: 0.000018  G_Loss: 24.341761\n",
      "Train Epoch: 89 [800/1000 (80%)]   D_Loss: 0.000006  G_Loss: 21.871105\n",
      "Train Epoch: 89 [1000/1000 (100%)]   D_Loss: 0.000014  G_Loss: 24.172667\n",
      "Train Epoch: 90 [200/1000 (20%)]   D_Loss: 0.000039  G_Loss: 20.081299\n",
      "Train Epoch: 90 [400/1000 (40%)]   D_Loss: 0.000013  G_Loss: 24.845467\n",
      "Train Epoch: 90 [600/1000 (60%)]   D_Loss: 0.000007  G_Loss: 25.246475\n",
      "Train Epoch: 90 [800/1000 (80%)]   D_Loss: 0.000002  G_Loss: 23.327677\n",
      "Train Epoch: 90 [1000/1000 (100%)]   D_Loss: 0.000010  G_Loss: 24.049034\n",
      "Train Epoch: 91 [200/1000 (20%)]   D_Loss: 0.000018  G_Loss: 20.594810\n",
      "Train Epoch: 91 [400/1000 (40%)]   D_Loss: 0.000005  G_Loss: 25.507748\n",
      "Train Epoch: 91 [600/1000 (60%)]   D_Loss: 0.000001  G_Loss: 25.188835\n",
      "Train Epoch: 91 [800/1000 (80%)]   D_Loss: 0.000002  G_Loss: 22.389999\n",
      "Train Epoch: 91 [1000/1000 (100%)]   D_Loss: 0.000003  G_Loss: 24.660522\n",
      "Train Epoch: 92 [200/1000 (20%)]   D_Loss: 0.000007  G_Loss: 22.020355\n",
      "Train Epoch: 92 [400/1000 (40%)]   D_Loss: 0.000007  G_Loss: 25.100676\n",
      "Train Epoch: 92 [600/1000 (60%)]   D_Loss: 0.000021  G_Loss: 23.426756\n",
      "Train Epoch: 92 [800/1000 (80%)]   D_Loss: 0.000360  G_Loss: 18.298420\n",
      "Train Epoch: 92 [1000/1000 (100%)]   D_Loss: 0.000062  G_Loss: 25.317484\n",
      "Train Epoch: 93 [200/1000 (20%)]   D_Loss: 0.000070  G_Loss: 34.586815\n",
      "Train Epoch: 93 [400/1000 (40%)]   D_Loss: 0.002315  G_Loss: 21.047766\n",
      "Train Epoch: 93 [600/1000 (60%)]   D_Loss: 0.000376  G_Loss: 21.122768\n",
      "Train Epoch: 93 [800/1000 (80%)]   D_Loss: 0.000054  G_Loss: 23.646805\n",
      "Train Epoch: 93 [1000/1000 (100%)]   D_Loss: 0.000019  G_Loss: 24.013298\n",
      "Train Epoch: 94 [200/1000 (20%)]   D_Loss: 0.000011  G_Loss: 21.144424\n",
      "Train Epoch: 94 [400/1000 (40%)]   D_Loss: 0.000018  G_Loss: 23.671009\n",
      "Train Epoch: 94 [600/1000 (60%)]   D_Loss: 0.000006  G_Loss: 24.656174\n",
      "Train Epoch: 94 [800/1000 (80%)]   D_Loss: 0.000009  G_Loss: 21.187290\n",
      "Train Epoch: 94 [1000/1000 (100%)]   D_Loss: 0.000008  G_Loss: 25.225960\n",
      "Train Epoch: 95 [200/1000 (20%)]   D_Loss: 0.000046  G_Loss: 19.293465\n",
      "Train Epoch: 95 [400/1000 (40%)]   D_Loss: 0.000048  G_Loss: 23.528999\n",
      "Train Epoch: 95 [600/1000 (60%)]   D_Loss: 0.000004  G_Loss: 26.525284\n",
      "Train Epoch: 95 [800/1000 (80%)]   D_Loss: 0.000003  G_Loss: 23.043705\n",
      "Train Epoch: 95 [1000/1000 (100%)]   D_Loss: 0.000004  G_Loss: 25.499748\n",
      "Train Epoch: 96 [200/1000 (20%)]   D_Loss: 0.000010  G_Loss: 22.672325\n",
      "Train Epoch: 96 [400/1000 (40%)]   D_Loss: 0.000003  G_Loss: 22.770014\n",
      "Train Epoch: 96 [600/1000 (60%)]   D_Loss: 0.000009  G_Loss: 25.587957\n",
      "Train Epoch: 96 [800/1000 (80%)]   D_Loss: 0.000002  G_Loss: 21.569038\n",
      "Train Epoch: 96 [1000/1000 (100%)]   D_Loss: 0.000008  G_Loss: 24.200733\n",
      "Train Epoch: 97 [200/1000 (20%)]   D_Loss: 0.000004  G_Loss: 23.231598\n",
      "Train Epoch: 97 [400/1000 (40%)]   D_Loss: 0.000006  G_Loss: 22.524448\n",
      "Train Epoch: 97 [600/1000 (60%)]   D_Loss: 0.000002  G_Loss: 24.907299\n",
      "Train Epoch: 97 [800/1000 (80%)]   D_Loss: 0.000001  G_Loss: 21.895292\n",
      "Train Epoch: 97 [1000/1000 (100%)]   D_Loss: 0.000005  G_Loss: 23.881218\n",
      "Train Epoch: 98 [200/1000 (20%)]   D_Loss: 0.000001  G_Loss: 23.556904\n",
      "Train Epoch: 98 [400/1000 (40%)]   D_Loss: 0.000012  G_Loss: 23.804302\n",
      "Train Epoch: 98 [600/1000 (60%)]   D_Loss: 0.000003  G_Loss: 22.355509\n",
      "Train Epoch: 98 [800/1000 (80%)]   D_Loss: 0.000001  G_Loss: 20.541431\n",
      "Train Epoch: 98 [1000/1000 (100%)]   D_Loss: 0.000004  G_Loss: 24.684959\n",
      "Train Epoch: 99 [200/1000 (20%)]   D_Loss: 0.000002  G_Loss: 23.495529\n",
      "Train Epoch: 99 [400/1000 (40%)]   D_Loss: 0.000009  G_Loss: 24.527405\n",
      "Train Epoch: 99 [600/1000 (60%)]   D_Loss: 0.000002  G_Loss: 24.353912\n",
      "Train Epoch: 99 [800/1000 (80%)]   D_Loss: 0.000001  G_Loss: 20.216717\n",
      "Train Epoch: 99 [1000/1000 (100%)]   D_Loss: 0.000001  G_Loss: 26.457710\n",
      "Train Epoch: 100 [200/1000 (20%)]   D_Loss: 0.000002  G_Loss: 23.674721\n",
      "Train Epoch: 100 [400/1000 (40%)]   D_Loss: 0.000007  G_Loss: 23.725815\n",
      "Train Epoch: 100 [600/1000 (60%)]   D_Loss: 0.000001  G_Loss: 23.553301\n",
      "Train Epoch: 100 [800/1000 (80%)]   D_Loss: 0.000000  G_Loss: 23.673046\n",
      "Train Epoch: 100 [1000/1000 (100%)]   D_Loss: 0.000002  G_Loss: 28.728260\n",
      "Finished Training\n"
     ]
    }
   ],
   "source": [
    "for epoch in range(epoch_ini, num_epoch):\n",
    "    #Creating iters for dataloader\n",
    "    iterA = iter(dataloader_A)\n",
    "    iterB = iter(dataloader_B)\n",
    "    iterOUT= iter(dataloader_OUT)\n",
    "    for i in range(num_data):\n",
    "        #select a batch of real samples\n",
    "        img_A, _ = iterA.next()\n",
    "        img_B, _ = iterB.next()\n",
    "        img_OUT, _ = iterOUT.next()\n",
    "\n",
    "        img_A = img_A.to(device)\n",
    "        img_B = img_B.to(device)\n",
    "        img_OUT = img_OUT.to(device)\n",
    "\n",
    "        #input of generator\n",
    "        img_AB = model.concatenate_torch(img_A, img_B)\n",
    "        #generate fake image\n",
    "        img_Out_fake = G(img_AB)\n",
    "\n",
    "        model.set_requires_grad(D,True)\n",
    "\n",
    "        #Discriminator optimization step:\n",
    "\n",
    "        #input of discriminator\n",
    "        img_ABOut = model.concatenate_torch(img_AB,img_OUT)\n",
    "        # reset accumulated gradients from previous iteration\n",
    "        optimizerD.zero_grad()\n",
    "        #updating for real samples\n",
    "        D_x = D(img_ABOut)\n",
    "        #Eliminate dimension not necessary\n",
    "        D_x = torch.squeeze(D_x)\n",
    "        #calculate loss for real label\n",
    "        lossD_real = criterionD(D_x, lab_real)\n",
    "        #updating for fake samples\n",
    "        img_ABOut_fake = model.concatenate_torch(img_AB,img_Out_fake)\n",
    "        D_G_x = D(img_ABOut_fake)\n",
    "        D_G_x = torch.squeeze(D_G_x)\n",
    "        #calculate loss for fake label\n",
    "        lossD_fake = criterionD(D_G_x,lab_fake)\n",
    "        # combine loss and calculate gradients\n",
    "        lossD = (lossD_fake + lossD_real)*0.5\n",
    "        lossD.backward(retain_graph=True)\n",
    "        optimizerD.step()\n",
    "\n",
    "        #Generator optimization step:\n",
    "        model.set_requires_grad(D,False) #Discriminator don't need gradient to optmize generator\n",
    "        # reset accumulated gradients from previous iteration\n",
    "        optimizerG.zero_grad()\n",
    "        #generate image\n",
    "        img_generate = G(img_AB)\n",
    "        #Test like discriminator input\n",
    "        img_gen_cat = concatenate_torch(img_AB,img_Out_fake)\n",
    "        D_G_x2 = D(img_gen_cat)\n",
    "        D_G_x2 = torch.squeeze(D_G_x2)\n",
    "        #Calculate loss testing like real - adversarial loss\n",
    "        lossAdversarial = criterionD(D_G_x2, lab_real)\n",
    "        #Calculate L1 loss - compare with ground truth\n",
    "        lossL1 = criterionG(img_Out_fake, img_OUT)\n",
    "        '''\n",
    "        The weights of the generator will be updated via both adversarial loss via the discriminator output and L1 loss \n",
    "        via the direct image output. The loss scores are added together, where the L1 loss is treated as a regularizing \n",
    "        term and weighted via a hyperparameter called lambda, set to 100.'''\n",
    "        #loss = adversarial loss + lambda * L1 loss\n",
    "        lossG = 1*lossAdversarial + 100*lossL1\n",
    "        lossG.backward()\n",
    "        optimizerG.step()\n",
    "\n",
    "\n",
    "        if i % batch_print == 0: # every 100 batches...\n",
    "            #making grid of images\n",
    "            img_gridA = torchvision.utils.make_grid(img_A)\n",
    "            img_gridB = torchvision.utils.make_grid(img_B)\n",
    "            img_gridOut = torchvision.utils.make_grid(img_OUT)\n",
    "            img_Out_fake[img_Out_fake < 0 ] = 0\n",
    "            img_gridG = torchvision.utils.make_grid(img_Out_fake)\n",
    "            #writing on tensorboard\n",
    "            writerA.add_image('Image input A',img_gridA,(num_data*epoch) + (i+batch_print))\n",
    "            writerA.add_image('Image input B',img_gridB,(num_data*epoch) + i)\n",
    "            writerA.add_image('Image input Difference Map Ground Truth',img_gridOut,(num_data*epoch) + (i+batch_print))\n",
    "            writerA.add_image('Image output Generator',img_gridG,(num_data*epoch) + (i+batch_print))\n",
    "            #Printing loss\n",
    "            print('Train Epoch: {} [{}/{} ({:.0f}%)]   D_Loss: {:.6f}  G_Loss: {:.6f}'.format(\n",
    "                epoch+1, i+batch_print, num_data,\n",
    "                100. * (i+batch_print) / num_data, lossD.item(), lossG.item()))\n",
    "\n",
    "            #writing loss on tensorboard\n",
    "            writerA.add_scalar('Training Loss - Discriminator',lossD.item(),(num_data*epoch) + (i+batch_print))\n",
    "            writerB.add_scalar('Training Loss - Discriminator',lossD_real.item(),(num_data*epoch) + (i+batch_print))\n",
    "            writerC.add_scalar('Training Loss - Discriminator',lossD_fake.item(),(num_data*epoch) + (i+batch_print))\n",
    "            writerA.add_scalar('Training Loss - Generator',lossG.item(),(num_data*epoch) + (i+batch_print))\n",
    "            writerB.add_scalar('Training Loss - Generator',100*lossL1.item(),(num_data*epoch) + (i+batch_print))\n",
    "            writerC.add_scalar('Training Loss - Generator',lossAdversarial.item(),(num_data*epoch) + (i+batch_print))\n",
    "    \n",
    "    #Save checkpoints\n",
    "    torch.save({\n",
    "        'epoch':epoch+1,\n",
    "        'Generator_state_dict': G.state_dict(),\n",
    "        'optimizerG_state_dict': optimizerG.state_dict(),\n",
    "        'loss_G':lossG,\n",
    "        'Discriminator_state_dict': D.state_dict(),\n",
    "        'optimizerD_state_dict': optimizerD.state_dict(),\n",
    "        'loss_D':lossD\n",
    "    }, path_model_checkpoints)                \n",
    "\n",
    "\n",
    "print(\"Finished Training\")"
   ]
  }
 ],
 "metadata": {
  "kernelspec": {
   "display_name": "Python 3",
   "language": "python",
   "name": "python3"
  },
  "language_info": {
   "codemirror_mode": {
    "name": "ipython",
    "version": 3
   },
   "file_extension": ".py",
   "mimetype": "text/x-python",
   "name": "python",
   "nbconvert_exporter": "python",
   "pygments_lexer": "ipython3",
   "version": "3.7.7"
  }
 },
 "nbformat": 4,
 "nbformat_minor": 4
}
